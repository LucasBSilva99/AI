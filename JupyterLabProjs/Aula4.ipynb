{
 "cells": [
  {
   "cell_type": "markdown",
   "metadata": {},
   "source": [
    "Problem 1\n",
    "\n",
    "1-\n",
    "\n",
    "2-\n",
    "\n",
    "3- O DFS (usa o LIFO) faz backtrack pois este método de pesquisa, percorre o primeiro percurso dos nodes que foi escolhido até ao final e se encontrar o goal node termina o processo, se não for encontrado terá que voltar aos nodes iniciais e escolher o próximo para percorrer podendo ou não acontecer o mesmo que foi explicado antes. Enquanto que o BFS (FIFO), percorre os nodes através de camadas ou seja os nodes iniciais são todos percorridos e só depois disso é que passa à camada seguinte, isto tudo até encontrar o goal node, desta forma não há backtracking.\n",
    "\n",
    "4- O British Museum Algorithm consiste em encontrar uma solução através da procura e verificação de todas as possibilidades possíveis, começando pela menor."
   ]
  },
  {
   "cell_type": "code",
   "execution_count": 4,
   "metadata": {},
   "outputs": [
    {
     "ename": "SyntaxError",
     "evalue": "invalid character in identifier (<ipython-input-4-9674f08ed1df>, line 10)",
     "output_type": "error",
     "traceback": [
      "\u001b[0;36m  File \u001b[0;32m\"<ipython-input-4-9674f08ed1df>\"\u001b[0;36m, line \u001b[0;32m10\u001b[0m\n\u001b[0;31m    print(’current q ’, q)\u001b[0m\n\u001b[0m                 ^\u001b[0m\n\u001b[0;31mSyntaxError\u001b[0m\u001b[0;31m:\u001b[0m invalid character in identifier\n"
     ]
    }
   ],
   "source": [
    "def uninformed_search_a(graph, start, goal, option):\n",
    "    q = [start]\n",
    "    v = []\n",
    "    # option 0: DFS\n",
    "    # option 1: BFS\n",
    "    enq = 1\n",
    "    i=0 # vamos manter um contador da iteracao na qual estamos\n",
    "    while q:\n",
    "        i+=1\n",
    "        print(’current q ’, q)\n",
    "        h = q[0]\n",
    "        r = q[1:]\n",
    "        print(’iteration’, i)\n",
    "        print(’q size starts’, enq)\n",
    "        if h == goal: #pergunto se a cabeca e o no objetivo\n",
    "            print(’found’) # se e, acabou o programa\n",
    "            break\n",
    "        else:\n",
    "                enq = enq - 1\n",
    "                v.append(h) # se nao e, marco o h como \"visitado\"\n",
    "                e = [] # e faco a expansao do h, mas nao considerando qualquer no ←-filho que ja tenha sido visitado\n",
    "                for node in graph[h]:\n",
    "                    if node not in v:\n",
    "                        e.append(node)\n",
    "                        enq += 1\n",
    "                if option == 0: # DFS\n",
    "                    q = sorted(e)+r\n",
    "                    print(’q size end it’, len(q))\n",
    "                else: #BFS\n",
    "                    q = r+sorted(e)\n",
    "                    print(’q size end it’, len(q))\n",
    "    print(’- - - - ’)"
   ]
  },
  {
   "cell_type": "code",
   "execution_count": null,
   "metadata": {},
   "outputs": [],
   "source": []
  }
 ],
 "metadata": {
  "kernelspec": {
   "display_name": "Python 3",
   "language": "python",
   "name": "python3"
  },
  "language_info": {
   "codemirror_mode": {
    "name": "ipython",
    "version": 3
   },
   "file_extension": ".py",
   "mimetype": "text/x-python",
   "name": "python",
   "nbconvert_exporter": "python",
   "pygments_lexer": "ipython3",
   "version": "3.6.9"
  }
 },
 "nbformat": 4,
 "nbformat_minor": 4
}
