{
 "cells": [
  {
   "cell_type": "markdown",
   "metadata": {},
   "source": [
    "\"1. Escrever código Python que permita processar um string e devolver uma lista dos carateres nesse string que tenham uma vogal como próximo carater. Por exemplo\n",
    "\n",
    "s = hello world\n",
    "\n",
    "r = ['h','l', 'w']\n",
    "\n",
    "considere como vogais unicamente as letras a,e,i,o,u\""
   ]
  },
  {
   "cell_type": "code",
   "execution_count": 8,
   "metadata": {},
   "outputs": [
    {
     "name": "stdout",
     "output_type": "stream",
     "text": [
      "h\n",
      "l\n",
      "w\n"
     ]
    }
   ],
   "source": [
    "s = \"hello world\"\n",
    "vowels = [\"a\",\"e\",\"i\",\"o\",\"u\"]\n",
    "list = []\n",
    "s_length = len(s)\n",
    "for i in range(0, len(s)):\n",
    "    if i != s_length - 1:\n",
    "        next = s[i+1]\n",
    "        for vowel in vowels:\n",
    "            if next == vowel:\n",
    "                list.append(s[i])\n",
    "for i in list:\n",
    "    print(i)\n",
    "    "
   ]
  },
  {
   "cell_type": "code",
   "execution_count": 10,
   "metadata": {},
   "outputs": [],
   "source": [
    "import numpy as np"
   ]
  },
  {
   "cell_type": "markdown",
   "metadata": {},
   "source": [
    "Considere o grafo de busca incluido no final do texto desta pergunta. Este grafo contem todas as posições de uma grelha 6x6. Cada passo possível tem um custo real valor v = 1.\n",
    "\n",
    "a. Altere o grafo de busca para que represente o grafo na figura incluida nesta pergunta (3pt)\n",
    "\n",
    "b. Implemente uma função para calcular a distancia de Manhattan dados dois lugares da grelha (por exemplo 'A2' e 'E3') (5pt) \n",
    "\n",
    "c. Implemente o algoritmo de Dijkstra. Precisa da distancia de Manhattan para este algoritmo? (4pt)\n",
    "\n",
    "d. A função deve imprimir o número acumulado de atualizações feitas a cada caminho aberto na queue (3pt)\n",
    "\n",
    "Isto é, cada vez que um caminho aberto  na queue é atualizado com um novo custo acumulado, devemos somar um valor a uma variável acumuladora. No inicio de cada iteração o algoritmo deve imprimir a seguinte mensagem:\n",
    "\n",
    "\"A executar Dijkstra. O algoritmo já atualizou o custo acumulado de X caminhos abertos\" \n",
    "\n",
    "X deve ser substituído pelo número na variável acumuladora.\n",
    "\n",
    "e. Testar o código com o exemplo na figura (3pt)\n",
    "\n",
    "Responder a todas as perguntas com código e texto markdown a explicar as sua respostas em detalhe. O não ter texto markdown a explicar as suas respostas ira resultar numa penalização de 50% da nota."
   ]
  },
  {
   "attachments": {
    "image.png": {
     "image/png": "[encoded data removed]"
    }
   },
   "cell_type": "markdown",
   "metadata": {},
   "source": [
    "![image.png](attachment:image.png)"
   ]
  },
  {
   "cell_type": "markdown",
   "metadata": {},
   "source": [
    "{\n",
    "\n",
    "    'A1': {'B1', 'A2'},\n",
    "\n",
    "    'A2': {'A1', 'A3', 'B2'},\n",
    "\n",
    "    'A3': {'A2', 'A4', 'B3'},\n",
    "\n",
    "    'A4': {'A3', 'A5', 'B4'},\n",
    "\n",
    "    'A5': {'A4', 'A6', 'B5'},\n",
    "\n",
    "    'A6': {'A5', 'B6'},\n",
    "\n",
    "  \n",
    "\n",
    "    'B1': {'A1', 'B2', 'C1'},\n",
    "\n",
    "    'B2': {'B1', 'A2', 'B3', 'C2'},\n",
    "\n",
    "    'B3': {'B2', 'B4', 'A3'},\n",
    "\n",
    "    'B4': {'B3', 'B5', 'A4', 'C4'},\n",
    "\n",
    "    'B5': {'B4', 'B6', 'A5'},\n",
    "\n",
    "    'B6': {'B5', 'A6', 'C6'},\n",
    "\n",
    "    \n",
    "\n",
    "    'C1': {'B1', 'C2'},\n",
    "\n",
    "    'C2': {'C1', 'B2'},\n",
    "\n",
    "    'C4': { 'B4', 'D4'},\n",
    "\n",
    "    'C6': { 'B6', 'D6'},\n",
    "\n",
    "    \n",
    "\n",
    "    'D4': { 'D5', 'C4', 'E4'},\n",
    "\n",
    "    'D5': {'D4', 'D6',  'E5'},\n",
    "\n",
    "    'D6': {'D5', 'C6', 'E6'},    \n",
    "\n",
    "    \n",
    "\n",
    "    'E1': { 'E2', 'F1'},\n",
    "\n",
    "    'E3': {'E2', 'E4', 'F3'},\n",
    "\n",
    "    'E5': {'E4', 'E6', 'D5', 'F5'},\n",
    "\n",
    "    'E6': {'E5', 'D6', 'F6'},   \n",
    "\n",
    "    \n",
    "\n",
    "    'F1': {'E1', 'F2'},\n",
    "\n",
    "    'F2': {'E2', 'F1', 'F3'},\n",
    "\n",
    "    'F3': {'F2', 'F4', 'E3'},\n",
    "\n",
    "    'F4': {'F3', 'F5', 'E4'},\n",
    "\n",
    "    'F5': {'F4', 'F6', 'E5'},\n",
    "\n",
    "    'F6': {'F5', 'E6'},        \n",
    "\n",
    "}"
   ]
  },
  {
   "cell_type": "markdown",
   "metadata": {},
   "source": [
    "Retiramos todos as posições da grelha que no gráfico estão a vermelho pois são impossíveis de serem alcançadas e de seguida retiramos tambem das posições que cada posição pode alcançar"
   ]
  },
  {
   "cell_type": "code",
   "execution_count": 1,
   "metadata": {},
   "outputs": [
    {
     "ename": "NameError",
     "evalue": "name 'initial' is not defined",
     "output_type": "error",
     "traceback": [
      "\u001b[1;31m---------------------------------------------------------------------------\u001b[0m",
      "\u001b[1;31mNameError\u001b[0m                                 Traceback (most recent call last)",
      "\u001b[1;32m<ipython-input-1-769c0cfb25d8>\u001b[0m in \u001b[0;36m<module>\u001b[1;34m\u001b[0m\n\u001b[0;32m     30\u001b[0m            [\"F6\",[6,6]],]\n\u001b[0;32m     31\u001b[0m \u001b[1;33m\u001b[0m\u001b[0m\n\u001b[1;32m---> 32\u001b[1;33m \u001b[0mpos1\u001b[0m \u001b[1;33m=\u001b[0m \u001b[0minitial\u001b[0m\u001b[1;33m\u001b[0m\u001b[1;33m\u001b[0m\u001b[0m\n\u001b[0m\u001b[0;32m     33\u001b[0m \u001b[0mpos2\u001b[0m \u001b[1;33m=\u001b[0m \u001b[0mlast\u001b[0m\u001b[1;33m\u001b[0m\u001b[1;33m\u001b[0m\u001b[0m\n\u001b[0;32m     34\u001b[0m \u001b[0mdistance\u001b[0m \u001b[1;33m=\u001b[0m \u001b[1;36m0\u001b[0m\u001b[1;33m\u001b[0m\u001b[1;33m\u001b[0m\u001b[0m\n",
      "\u001b[1;31mNameError\u001b[0m: name 'initial' is not defined"
     ]
    }
   ],
   "source": [
    "def manhattan_distance(initial,last):\n",
    "    list = [[\"A1\", [1,1]],\n",
    "           [\"A2\",[1,2]],\n",
    "           [\"A3\",[1,3]],\n",
    "           [\"A4\",[1,4]],\n",
    "           [\"A5\",[1,5]],\n",
    "           [\"A6\",[1,6]],\n",
    "           [\"B1\",[2,1]],\n",
    "           [\"B2\",[2,2]],\n",
    "           [\"B3\",[2,3]],\n",
    "           [\"B4\",[2,4]],\n",
    "           [\"B5\",[2,5]],\n",
    "           [\"B6\",[2,6]],\n",
    "           [\"C1\",[3,1]],\n",
    "           [\"C2\",[3,2]],\n",
    "           [\"C4\",[3,4]],\n",
    "           [\"C6\",[3,6]],\n",
    "           [\"D4\",[4,4]],\n",
    "           [\"D5\",[4,5]],\n",
    "           [\"D6\",[4,6]],\n",
    "           [\"E1\",[5,1]],\n",
    "           [\"E3\",[5,3]],\n",
    "           [\"E5\",[5,5]],\n",
    "           [\"E6\",[5,6]],\n",
    "           [\"F1\",[6,1]],\n",
    "           [\"F2\",[6,2]],\n",
    "           [\"F3\",[6,3]],\n",
    "           [\"F4\",[6,4]],\n",
    "           [\"F5\",[6,5]],\n",
    "           [\"F6\",[6,6]],]\n",
    "    \n",
    "pos1 = initial\n",
    "pos2 = last\n",
    "distance = 0\n",
    "for pos in list:\n",
    "    if pos1 == pos:\n",
    "        for pos_last in list:\n",
    "            if pos2 == pos_last:\n",
    "                position1 = pos[1]\n",
    "                position2 = pos_last[1]\n",
    "                distance_x = position1[0] - position2[0]\n",
    "                distance_y = position1[1] - position2[1]\n",
    "                if distance_x < 0:\n",
    "                    distance_x * (-1)\n",
    "                if distance_y < 0:\n",
    "                    distance_y * (-1)\n",
    "                distance = distance_x + distance_y\n",
    "                \n",
    "return distance"
   ]
  },
  {
   "cell_type": "markdown",
   "metadata": {},
   "source": [
    "O pretendido é que como vamos ter uma grelha guarda as posições numéricas de todos, e o utilizador apenas daria a posição da grelha A1 e E3 por exemplo, e apartir dai procurarmos na nossa lista e calcular a distancia que está entre ambos."
   ]
  },
  {
   "cell_type": "code",
   "execution_count": null,
   "metadata": {},
   "outputs": [],
   "source": [
    "def manhattanDist(coordPair):\n",
    "    ## Split coordinates\n",
    "    x1y1 = [char for char in coordPair[0]]\n",
    "    x2y2 = [char for char in coordPair[1]]\n",
    "    \n",
    "    ## Find ASCII equivalent for characters to convert them to integers\n",
    "    x1y1[0] = ord(x1y1[0].lower()) - 96\n",
    "    x2y2[0] = ord(x2y2[0].lower()) - 96\n",
    "    x1y1[1] = ord(x1y1[1]) - 48\n",
    "    x2y2[1] = ord(x2y2[1]) - 48\n",
    "    \n",
    "    ## Calculate distance\n",
    "    dist = abs(x1y1[0] - x2y2[0]) + abs(x1y1[1] - x2y2[1])\n",
    "    \n",
    "    return dist"
   ]
  },
  {
   "cell_type": "markdown",
   "metadata": {},
   "source": [
    "# Dijkstra"
   ]
  },
  {
   "cell_type": "code",
   "execution_count": 19,
   "metadata": {},
   "outputs": [],
   "source": [
    "g = {\n",
    "    's': {('a',7), ('b',2),('c',3)},\n",
    "    'a': {('b',3), ('d',4),('s',7)},\n",
    "    'b': {('a',3), ('d',4),('h',1),('s',2)},\n",
    "    'c': {('l',2),('s',3)},\n",
    "    'd': {('a',4), ('b',4),('f',5)},\n",
    "    'e': {('k',5), ('g',2)},\n",
    "    'f': {('d',5), ('h',4)},\n",
    "    'g': {('h',2), ('e',2)},\n",
    "    'h': {('b',1), ('f',4),('g',2)},\n",
    "    'i': {('k',4), ('l',4),('j',6)},\n",
    "    'j': {('k',4), ('l',4),('i',6)},\n",
    "    'k': {('i',4), ('j',4),('e',5)},\n",
    "    'l': {('c',2), ('i',4),('j',4)},\n",
    "}"
   ]
  },
  {
   "cell_type": "code",
   "execution_count": 20,
   "metadata": {},
   "outputs": [],
   "source": [
    "def dijkstra(graph, start, goal):\n",
    "    q = [(start, [start], 0)]\n",
    "    done= set()\n",
    "    i = 0\n",
    "    while q:\n",
    "        i += 1\n",
    "        h = q[0]\n",
    "        r = q[1:]\n",
    "        if h[0]== goal:\n",
    "            print(\"Total iterations: \", i)\n",
    "            print(\"Path: \", h[1])\n",
    "            print(\"Cost: \", h[2])\n",
    "            return \n",
    "        else:\n",
    "            e_filter = []\n",
    "            for node in graph[h[0]]:\n",
    "                if node not in h[1] and node[0] not in done:\n",
    "                    e_filter.append(node)\n",
    "            e = [(e_final[0], h[1] + [e_final[0]], h[2] + e_final[1])for e_final in e_filter]\n",
    "            done.add(h[0])\n",
    "            q = sorted(e+r, key = lambda tup: (tup[2],tup[0]))\n",
    "    "
   ]
  },
  {
   "cell_type": "code",
   "execution_count": 21,
   "metadata": {},
   "outputs": [
    {
     "name": "stdout",
     "output_type": "stream",
     "text": [
      "Total iterations:  10\n",
      "Path:  ['s', 'b', 'h', 'g', 'e']\n",
      "Cost:  7\n"
     ]
    }
   ],
   "source": [
    "dijkstra(g, 's','e')"
   ]
  }
 ],
 "metadata": {
  "kernelspec": {
   "display_name": "Python 3",
   "language": "python",
   "name": "python3"
  },
  "language_info": {
   "codemirror_mode": {
    "name": "ipython",
    "version": 3
   },
   "file_extension": ".py",
   "mimetype": "text/x-python",
   "name": "python",
   "nbconvert_exporter": "python",
   "pygments_lexer": "ipython3",
   "version": "3.7.6"
  }
 },
 "nbformat": 4,
 "nbformat_minor": 4
}
