{
 "cells": [
  {
   "cell_type": "code",
   "execution_count": 3,
   "metadata": {},
   "outputs": [],
   "source": [
    "import random\n",
    "import itertools\n",
    "import numpy as np\n",
    "import matplotlib.pyplot as plt"
   ]
  },
  {
   "cell_type": "markdown",
   "metadata": {},
   "source": [
    "# Genetic Algorithm"
   ]
  },
  {
   "cell_type": "markdown",
   "metadata": {},
   "source": [
    "## Cellular Automata Implementation"
   ]
  },
  {
   "cell_type": "code",
   "execution_count": 4,
   "metadata": {},
   "outputs": [],
   "source": [
    "def get_cell_neighborhood(cellular_automata_state, cell_position, r):\n",
    "    right = [cellular_automata_state[(cell + 1) % len(cellular_automata_state)] for cell in range(cell_position, cell_position + r)]\n",
    "    left = [cellular_automata_state[(cell + 1) % len(cellular_automata_state)] for cell in range(cell_position - r - 1, cell_position - 1)]\n",
    "    return left + [cellular_automata_state[cell_position]] + right"
   ]
  },
  {
   "cell_type": "code",
   "execution_count": 5,
   "metadata": {},
   "outputs": [],
   "source": [
    "def get_next_state(rule, neighborhood_state):\n",
    "    position = int(\"\".join(str(x) for x in neighborhood_state), 2)\n",
    "    return rule[position]"
   ]
  },
  {
   "cell_type": "code",
   "execution_count": 6,
   "metadata": {},
   "outputs": [],
   "source": [
    "def compute_celullar_automata(cellular_automata_state, rule, r):\n",
    "    new_cellular_automata_state = []\n",
    "    for cell_position in range(0, len(cellular_automata_state)):\n",
    "        neighborhood_state = get_cell_neighborhood(cellular_automata_state, cell_position, r)\n",
    "        next_state = get_next_state(rule, neighborhood_state)\n",
    "        new_cellular_automata_state.append(next_state)\n",
    "    return new_cellular_automata_state"
   ]
  },
  {
   "cell_type": "code",
   "execution_count": 7,
   "metadata": {},
   "outputs": [],
   "source": [
    "def run_cellular_automate(initial_state, rule, r, ca_steps):\n",
    "    cellular_automate = []\n",
    "    for i in range(0, ca_steps):\n",
    "        initial_state = compute_celullar_automata(initial_state, rule, r)\n",
    "        cellular_automate.append(initial_state)\n",
    "    return cellular_automate"
   ]
  },
  {
   "cell_type": "code",
   "execution_count": 8,
   "metadata": {},
   "outputs": [],
   "source": [
    "def get_random_rule(s, n):\n",
    "    rule_size = s ** n\n",
    "    rule_space = s ** rule_size\n",
    "    random_rule = random.getrandbits(rule_size)\n",
    "    rule_list =  list(map(int, list(np.binary_repr(random_rule,rule_size))))\n",
    "    return rule_list"
   ]
  },
  {
   "cell_type": "markdown",
   "metadata": {},
   "source": [
    "## Genetic algorithm implementation"
   ]
  },
  {
   "cell_type": "code",
   "execution_count": 9,
   "metadata": {},
   "outputs": [],
   "source": [
    "def create_training_set(size, s, network_size):\n",
    "    return [list(np.random.randint(0, s, network_size)) for i in range(size)]"
   ]
  },
  {
   "cell_type": "code",
   "execution_count": 10,
   "metadata": {},
   "outputs": [],
   "source": [
    "def create_population(size, s, n):\n",
    "    return [[get_random_rule(s, n), 0] for i in range(population_size)]"
   ]
  },
  {
   "cell_type": "code",
   "execution_count": 19,
   "metadata": {},
   "outputs": [],
   "source": [
    "def compute_fitness(individual, training_set, r, steps):\n",
    "    performance_list = []\n",
    "    for example in training_set:\n",
    "        count_ones = np.count_nonzero(example)\n",
    "        count_zeroes = len(example) - count_ones\n",
    "        if count_zeroes > count_ones:\n",
    "            majority = 0\n",
    "        else:\n",
    "            majority = 1\n",
    "            ca_dynamics = run_cellular_automate(example, individual, r, len(training_set))\n",
    "            performance = (len(ca_dynamics[len(ca_dynamics) - 1]) - np.count_nonzero(ca_dynamics[len(ca_dynamics) - 1])) / len(training_set)# T4. extract last network configuration (last time step), count how many cells are in majority state and divide by network size\n",
    "            performance_list.append(performance)\n",
    "    return sum(performance_list) / len(performance_list)"
   ]
  },
  {
   "cell_type": "code",
   "execution_count": 20,
   "metadata": {},
   "outputs": [],
   "source": [
    "def cross_over(parent_1, parent_2, points):\n",
    "    for i in range(points, len(parent_1)):\n",
    "        parent_1[i], parent_2[i] = parent_2[i], parent_1[i]\n",
    "    return parent_1, parent_2"
   ]
  },
  {
   "cell_type": "code",
   "execution_count": 21,
   "metadata": {},
   "outputs": [],
   "source": [
    "def mutation(child, mutation_rate):\n",
    "    result = []    \n",
    "    for s in child:\n",
    "        if random.random() < mutation_rate:\n",
    "            s = random.randint(0, 1)\n",
    "        result.append(s)\n",
    "    return result"
   ]
  },
  {
   "cell_type": "code",
   "execution_count": 22,
   "metadata": {},
   "outputs": [],
   "source": [
    "def do_generation(population, training_set, r, ca_steps):\n",
    "    for individual in population:\n",
    "        individual[1] = compute_fitness(individual[0], training_set, r, ca_steps)\n",
    "    population = sorted(population, key=lambda x: x[1], reverse=True)\n",
    "    return population"
   ]
  },
  {
   "cell_type": "code",
   "execution_count": 23,
   "metadata": {},
   "outputs": [],
   "source": [
    "def next_generation(population, training_set, r, ca_steps, cross_over_points, mutation_rate, elite_size):\n",
    "    elite = population[:elite_size]\n",
    "    if (len(population) > elite_size):\n",
    "        parents = list(itertools.combinations(elite, 2))\n",
    "        while len(elite) < len(population):\n",
    "            parent_1, parent_2 = parents.pop(random.randint(0,len(parents)-1))\n",
    "            child_1, child_2 = cross_over(parent_1[0], parent_2[0], cross_over_points)\n",
    "            elite.append([mutation(child_1, mutation_rate), 0])\n",
    "            elite.append([mutation(child_2, mutation_rate), 0])\n",
    "        while len(elite) != len(population):\n",
    "            elite.pop(random.randint(0,len(elite)-1))\n",
    "    return elite"
   ]
  },
  {
   "cell_type": "code",
   "execution_count": 24,
   "metadata": {},
   "outputs": [],
   "source": [
    "def run_genetic_algorithm(population, training_set, r, ca_steps, cross_over_points, mutation_rate, elite_size, num_gens):\n",
    "    result = []\n",
    "    gen = do_generation(population, training_set, r, ca_steps)\n",
    "    result.append(gen)\n",
    "    for i in range(num_gens):\n",
    "        gen = next_generation(gen, training_set, r, ca_steps, cross_over_points, mutation_rate, elite_size)\n",
    "        gen = do_generation(gen, training_set, r, ca_steps)\n",
    "        result.append(gen)\n",
    "    return result"
   ]
  },
  {
   "cell_type": "code",
   "execution_count": 25,
   "metadata": {},
   "outputs": [],
   "source": [
    "rule = 110\n",
    "r = 3\n",
    "n = (2 * r) + 1\n",
    "s = 2\n",
    "\n",
    "network_size = 151\n",
    "\n",
    "ca_steps = 10\n",
    "\n",
    "my_rule = get_random_rule(s, n)\n",
    "\n",
    "training_set_size = 10\n",
    "training_set = create_training_set(training_set_size, s, network_size)\n",
    "\n",
    "population_size = 20\n",
    "population = create_population(population_size, s, n)\n",
    "\n",
    "elite_size = 5\n",
    "mutation_rate = 0.02\n",
    "cross_over_points = 1\n",
    "\n",
    "num_gens = 20\n",
    "generations = run_genetic_algorithm(population, training_set, r, ca_steps, cross_over_points, mutation_rate, elite_size, num_gens)"
   ]
  },
  {
   "cell_type": "code",
   "execution_count": 26,
   "metadata": {},
   "outputs": [
    {
     "data": {
      "image/png": "[encoded data removed]",
      "text/plain": [
       "<Figure size 432x288 with 1 Axes>"
      ]
     },
     "metadata": {
      "needs_background": "light"
     },
     "output_type": "display_data"
    }
   ],
   "source": [
    "data = []\n",
    "i = 1\n",
    "for gen in generations:\n",
    "    fitnesses = [element[1] for element in gen]\n",
    "    data.append(fitnesses)\n",
    "    i += 1\n",
    "fig = plt.boxplot(data)"
   ]
  },
  {
   "cell_type": "code",
   "execution_count": null,
   "metadata": {},
   "outputs": [],
   "source": []
  }
 ],
 "metadata": {
  "kernelspec": {
   "display_name": "Python 3",
   "language": "python",
   "name": "python3"
  },
  "language_info": {
   "codemirror_mode": {
    "name": "ipython",
    "version": 3
   },
   "file_extension": ".py",
   "mimetype": "text/x-python",
   "name": "python",
   "nbconvert_exporter": "python",
   "pygments_lexer": "ipython3",
   "version": "3.7.6"
  }
 },
 "nbformat": 4,
 "nbformat_minor": 4
}
