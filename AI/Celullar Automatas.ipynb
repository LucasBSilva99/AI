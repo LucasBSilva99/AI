{
 "cells": [
  {
   "cell_type": "code",
   "execution_count": 2,
   "metadata": {
    "colab": {},
    "colab_type": "code",
    "id": "mIwK7_0TV5Fd"
   },
   "outputs": [],
   "source": [
    "import numpy as np"
   ]
  },
  {
   "cell_type": "markdown",
   "metadata": {
    "colab_type": "text",
    "id": "YlwQgQ2baiQL"
   },
   "source": [
    "## Celullar Automata\n",
    "\n",
    "Let's start with the basic\n",
    "\n",
    "### Computing the next state of a given cell"
   ]
  },
  {
   "cell_type": "code",
   "execution_count": 31,
   "metadata": {
    "colab": {},
    "colab_type": "code",
    "id": "z2kaXQmWacja"
   },
   "outputs": [],
   "source": [
    "def get_cell_neighborhood(cellular_automata_state, cell_position, r) :\n",
    "    array = [cellular_automata_state[cell_position]]\n",
    "    if r > len(cellular_automata_state):\n",
    "        print(\"R é superior ao tamanho do CA\")\n",
    "        r =  int(r / len(cellular_automata_state))\n",
    "    for i in range(1,r+1):\n",
    "        array.append(cellular_automata_state[(cell_position + i) % len(cellular_automata_state)])\n",
    "        array.insert(0,cellular_automata_state[(cell_position - i) % len(cellular_automata_state)])\n",
    "        print(array)\n",
    "    \n",
    "    print(\"Cellular Automata State: \",cellular_automata_state)\n",
    "    return array"
   ]
  },
  {
   "cell_type": "code",
   "execution_count": 22,
   "metadata": {},
   "outputs": [],
   "source": []
  },
  {
   "cell_type": "code",
   "execution_count": 81,
   "metadata": {},
   "outputs": [
    {
     "name": "stdout",
     "output_type": "stream",
     "text": [
      "[0, 1, 1]\n",
      "[1, 0, 1, 1, 0]\n",
      "Cellular Automata State:  [1 1 0 0 1 1 1 1 1 0]\n"
     ]
    },
    {
     "data": {
      "text/plain": [
       "[1, 0, 1, 1, 0]"
      ]
     },
     "execution_count": 81,
     "metadata": {},
     "output_type": "execute_result"
    }
   ],
   "source": [
    "get_cell_neighborhood(cellular_automata_state, 0, 2)"
   ]
  },
  {
   "cell_type": "markdown",
   "metadata": {},
   "source": [
    "Each automaton can see some of their neighbours to\n",
    "both sides r = 1,2,3…\n",
    "\n",
    "• This creates local neighbourhoods for each with\n",
    "sizes n = 2r + 1 = 3,5,7…\n",
    "\n",
    "• Each automaton can have 2 values, 0 or 1 -> Therefore s = 2 states\n",
    "\n",
    "• They decide what value to have on time t following a fixed rule based on neighbourhood\n",
    "\n",
    "• The value shown at t+1 depends on the neighbourhood at time t\n",
    " \n",
    "• Time is discrete : tik tok tamariz porque aqui eu sou feliz\n",
    "\n",
    "• over time cells can communicate (space-time computation)\n",
    "\n",
    "• CAs converge to repeating patterns\n",
    "\n",
    "Size of the rule s^(n), \n",
    "\n",
    "• for example if r = 1 and each automaton can have 2 states, then n = 2 * 1 + 1 = 3 and s = 2 states\n",
    "    Therefore: size of rule = 2^(3) = 8 \n",
    "    \n",
    "    And how many different rules do we have????\n",
    "    • 2^(8) = 256\n",
    "    \n",
    "We have an Elementary Cellular Automata when r=1, n=3 and s=2"
   ]
  },
  {
   "cell_type": "code",
   "execution_count": 24,
   "metadata": {
    "colab": {},
    "colab_type": "code",
    "id": "EGnwS-OdYVGw"
   },
   "outputs": [],
   "source": [
    "def get_next_state(rule, neighborhood_state):\n",
    "    "
   ]
  },
  {
   "cell_type": "code",
   "execution_count": 71,
   "metadata": {},
   "outputs": [],
   "source": [
    "def apply_automata_rule(rule, test_neighborhood):\n",
    "    sum = 0;\n",
    "    if test_neighborhood[0] == 1:\n",
    "        sum +=4;\n",
    "    \n",
    "    if test_neighborhood[1] == 1:\n",
    "        sum += 2;\n",
    "    \n",
    "    if test_neighborhood[2] == 1:\n",
    "        sum += 1;\n",
    "        \n",
    "    return rule[sum]"
   ]
  },
  {
   "cell_type": "code",
   "execution_count": 68,
   "metadata": {},
   "outputs": [],
   "source": [
    "def apply_automata_rule1(rule, test_neighborhood):\n",
    "    sum = 0;\n",
    "    test_neighborhood_size = len(test_neighborhood);\n",
    "    for i in range(test_neighborhood_size):\n",
    "        binary_value = (2 ** (test_neighborhood_size)) - i;\n",
    "        if test_neighborhood[i] == 1:\n",
    "            sum += binary_value;\n",
    "    \n",
    "    return rule[sum]"
   ]
  },
  {
   "cell_type": "code",
   "execution_count": 69,
   "metadata": {
    "colab": {
     "base_uri": "https://localhost:8080/",
     "height": 34
    },
    "colab_type": "code",
    "id": "bX84z6awYeyh",
    "outputId": "493559b0-5cda-4204-eab7-a0028b980a36"
   },
   "outputs": [
    {
     "name": "stdout",
     "output_type": "stream",
     "text": [
      "[0, 1, 1, 1, 0, 1, 1, 0, 0]\n"
     ]
    }
   ],
   "source": [
    "# Initial State of the cellular automata \n",
    "np.random.seed(1)\n",
    "network_size = 10 # size of the automata network\n",
    "s = 2 # Number of states (0 or 1 in this case)\n",
    "cellular_automata_state = np.random.randint(0, s, network_size) \n",
    "\n",
    "# Define Rule\n",
    "rule = 110 #base 10 rule representation\n",
    "r = 1 # also denominated by `r` or `rad` or `radius`\n",
    "n = (2*r)+1 #size of the neighborhood state \n",
    "rule_list =  list(map(int, list(np.binary_repr(rule,n**2))))\n",
    "rule_list.reverse()\n",
    "print(rule_list)"
   ]
  },
  {
   "cell_type": "code",
   "execution_count": 70,
   "metadata": {
    "colab": {
     "base_uri": "https://localhost:8080/",
     "height": 104
    },
    "colab_type": "code",
    "id": "9WOqG7EkaZfj",
    "outputId": "6369091a-7e4a-4ae1-99e2-6e9ea79541b6"
   },
   "outputs": [
    {
     "name": "stdout",
     "output_type": "stream",
     "text": [
      "My current rule list is [0, 1, 1, 1, 0, 1, 1, 0, 0]\n",
      "This means that the position 0 of this rule list corresponds to the neighborhood state of [0,0,0], which should results in the next state of 0\n",
      "This means that the position 2 of this rule list corresponds to the neighborhood state of [0,1,0], which should results in the next state of 1\n",
      "This means that the position 5 of this rule list corresponds to the neighborhood state of [1,0,1], which should results in the next state of 1\n",
      "This means that the position 3 of this rule list corresponds to the neighborhood state of [0,1,1], which should results in the next state of 1\n"
     ]
    }
   ],
   "source": [
    "print(f\"My current rule list is {rule_list}\")\n",
    "print(f\"This means that the position 0 of this rule list corresponds to the neighborhood state of [0,0,0], which should results in the next state of {rule_list[0]}\")\n",
    "print(f\"This means that the position 2 of this rule list corresponds to the neighborhood state of [0,1,0], which should results in the next state of {rule_list[2]}\")\n",
    "print(f\"This means that the position 5 of this rule list corresponds to the neighborhood state of [1,0,1], which should results in the next state of {rule_list[5]}\")\n",
    "print(f\"This means that the position 3 of this rule list corresponds to the neighborhood state of [0,1,1], which should results in the next state of {rule_list[3]}\")"
   ]
  },
  {
   "cell_type": "code",
   "execution_count": 74,
   "metadata": {
    "colab": {},
    "colab_type": "code",
    "id": "oY45gwrDZ5YA"
   },
   "outputs": [
    {
     "name": "stdout",
     "output_type": "stream",
     "text": [
      "[0, 0, 1]\n",
      "Cellular Automata State:  [1 1 0 0 1 1 1 1 1 0]\n",
      "[0, 0, 1]\n",
      "[1 1 0 0 1 1 1 1 1 0]\n"
     ]
    }
   ],
   "source": [
    "# we must be able to call this function, and reason about its correctness\n",
    "test_neighborhood = get_cell_neighborhood(cellular_automata_state, 3, 1)\n",
    "print(test_neighborhood)\n",
    "print(cellular_automata_state)"
   ]
  },
  {
   "cell_type": "code",
   "execution_count": 76,
   "metadata": {
    "colab": {},
    "colab_type": "code",
    "id": "8josZ-YoaDvI"
   },
   "outputs": [
    {
     "name": "stdout",
     "output_type": "stream",
     "text": [
      "1\n",
      "[0, 0, 1]\n"
     ]
    }
   ],
   "source": [
    "test_next_state = apply_automata_rule(rule_list, test_neighborhood)\n",
    "print(test_next_state)\n",
    "print(test_neighborhood)"
   ]
  },
  {
   "cell_type": "markdown",
   "metadata": {
    "colab_type": "text",
    "id": "nMsPbIIlat6u"
   },
   "source": [
    "### Computing the next state of a cellular automata\n"
   ]
  },
  {
   "cell_type": "code",
   "execution_count": 12,
   "metadata": {
    "colab": {},
    "colab_type": "code",
    "id": "1mF-m36Ia4MR"
   },
   "outputs": [],
   "source": [
    "def compute_celullar_automata(cellular_automata_state, rule, r):\n",
    "  ..."
   ]
  },
  {
   "cell_type": "code",
   "execution_count": null,
   "metadata": {},
   "outputs": [],
   "source": []
  },
  {
   "cell_type": "code",
   "execution_count": null,
   "metadata": {},
   "outputs": [],
   "source": []
  }
 ],
 "metadata": {
  "colab": {
   "collapsed_sections": [],
   "name": "Untitled",
   "provenance": []
  },
  "kernelspec": {
   "display_name": "Python 3",
   "language": "python",
   "name": "python3"
  },
  "language_info": {
   "codemirror_mode": {
    "name": "ipython",
    "version": 3
   },
   "file_extension": ".py",
   "mimetype": "text/x-python",
   "name": "python",
   "nbconvert_exporter": "python",
   "pygments_lexer": "ipython3",
   "version": "3.7.6"
  }
 },
 "nbformat": 4,
 "nbformat_minor": 1
}
