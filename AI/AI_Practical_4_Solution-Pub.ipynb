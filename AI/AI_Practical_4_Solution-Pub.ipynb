{
 "cells": [
  {
   "cell_type": "markdown",
   "metadata": {},
   "source": [
    "## Practical 4 - Uninformed Search Part II"
   ]
  },
  {
   "cell_type": "markdown",
   "metadata": {},
   "source": [
    "### Question 1.1\n",
    "\n",
    "Programatically we want to look at how the queue grows and how many iterations the algorithm takes to get to a solution. After the execution has been completed we want to look at the quality of the path. We can only consider quality of the path in terms of number of visited nodes because uninformed search does not have anything else to work with. Uninformed search, for example, does not know if it is expanding paths that are taking it away from the goal node.\n",
    "\n",
    "### Question 1.2\n",
    "\n",
    "This is the case because the algorithm follows the first path it expanded until it cannot go any further. Only then it backtracks to explore the nearest alternative paths it did not explore.\n",
    "\n",
    "### Question 1.3\n",
    "\n",
    "Backtracking means that when the algorithm is exploring an open path and cannot expand anymore it goes back to the nearest alternative unexplored node on the same tree of open paths. Eventually backtracking can go all the way back to the starting node from where other paths may be explored. DFS backtracks, while BFS does not. BFS does not backtrack because it explores a number of paths in parallel starting with those that are accessible via one expansion, then two, and so on. In other words, BFS does not go until it cannot expand anymore then looking for the nearest unexplored alternative path. This is an important point.\n",
    "\n",
    "### Question 1.4\n",
    "\n",
    "British Museum means expanding all possible paths and exploring all of them. The completed code looks follows, it expands all the paths in a DFS fashion but it is not DFS in the strict sense of the word because it expands several paths that go through the same node."
   ]
  },
  {
   "cell_type": "code",
   "execution_count": 1,
   "metadata": {},
   "outputs": [],
   "source": [
    "def bm_paths(graph, start, goal):\n",
    "    q = [(start, [start])]\n",
    "    while q:\n",
    "        (vertex, path) = q.pop(0)\n",
    "        for next in graph[vertex] - set(path):\n",
    "            if next == goal:\n",
    "                print('yielding')\n",
    "                yield path + [next]\n",
    "                \n",
    "            else:\n",
    "                q.append((next, path + [next]))"
   ]
  },
  {
   "cell_type": "markdown",
   "metadata": {},
   "source": [
    "### Question 2.1\n",
    "\n",
    "The code is valid and works as expected. You must realise that the mechanism that keeps *visited nodes* and does not expand new paths from them once they have been marked as visited once is the core improvement DFS and BFS make over the British Museum algorithm.\n",
    "\n",
    "The implementation of the second approach is equivalent to the BM algorithm above, with the difference that the algorithm ends when the goal node is found, and we have an argument to tell it whether we want DFS or BFS"
   ]
  },
  {
   "cell_type": "code",
   "execution_count": 6,
   "metadata": {},
   "outputs": [],
   "source": [
    "# this is one of the ways in which we can represent our search graph\n",
    "# the example below corresponds to the same graph we used in the lecture\n",
    "\n",
    "g = { \n",
    "    's': {'a','b','c'},\n",
    "    'a': {'b','d','s'},\n",
    "    'b': {'d','h','s'},\n",
    "    'c': {'l','s'},\n",
    "    'd': {'a','b', 'f'},\n",
    "    'e': {'g','k'},\n",
    "    'f': {'d','h'},\n",
    "    'g': {'e','h'},\n",
    "    'h': {'b','f', 'g'},\n",
    "    'i': {'j','k', 'l'},\n",
    "    'j': {'i','k', 'l'},\n",
    "    'k': {'e','i', 'j'},\n",
    "    'l': {'c','i', 'j'},\n",
    "}\n",
    "\n",
    "# the code below does be British museum DFS and BFS traversals\n",
    "# that is, the one in which we keep the paths for each expanded node\n",
    "# which results in all possible paths\n",
    "# implementation uses *lazy* programming which means we are not declaring data types\n",
    "\n",
    "def uninformed_search_b(graph, start, goal, option):\n",
    "    q = [(start, [start])]\n",
    "    # option 0: DFS\n",
    "    # option 1: BFS\n",
    "    enq = 1 # esta variavel é útil so para imprimir o tamanho da queue, não tem efeito no algoritmo\n",
    "    i=0 # vamos manter um contador da iteração na qual estamos \n",
    "    while q:\n",
    "        i+=1\n",
    "        print('current q has ', q)\n",
    "        h = q[0] #primeiro separo a q em cabeça e resto\n",
    "        r = q[1:]\n",
    "        print('iteration', i)\n",
    "        print('q size starts', enq)\n",
    "        if h[0] == goal: #pergunto se a cabeça é o nó objetivo\n",
    "            print('found goal') # se é, acabou o programa\n",
    "            break\n",
    "        else:\n",
    "            enq = enq - 1 # reduzimos a queue em um elemento porque a cabeça já era\n",
    "            e_filter = [] # e faço a expansão do h, mas não considerando qualquer nó filho que já tenha sido visitado\n",
    "            for node in graph[h[0]]: # para cada nó que é filho da cabeça atual (h)\n",
    "                if node not in h[1]: # se o nó não estiver no caminho que conhecemos até agora para o h[0]\n",
    "                    e_filter.append(node)\n",
    "                    enq += 1 # cada nó filho vai produzir un novo tuplo a incluir na queue\n",
    "            if option == 0: # DFS\n",
    "                e = [(e_final, h[1] + [e_final]) for e_final in e_filter]\n",
    "                q =  sorted(e) + r\n",
    "                print('q size end it', len(q))\n",
    "            else: #BFS\n",
    "                e = [(e_final, h[1] + e_final) for e_final in e_filter] \n",
    "                q = r + sorted(e)\n",
    "                \n",
    "                print('q size end it', len(q))\n",
    "        print('- - - - ')\n",
    "                    "
   ]
  },
  {
   "cell_type": "code",
   "execution_count": 7,
   "metadata": {},
   "outputs": [
    {
     "name": "stdout",
     "output_type": "stream",
     "text": [
      "current q has  [('s', ['s'])]\n",
      "iteration 1\n",
      "q size starts 1\n",
      "q size end it 3\n",
      "- - - - \n",
      "current q has  [('a', ['s', 'a']), ('b', ['s', 'b']), ('c', ['s', 'c'])]\n",
      "iteration 2\n",
      "q size starts 3\n",
      "q size end it 4\n",
      "- - - - \n",
      "current q has  [('b', ['s', 'a', 'b']), ('d', ['s', 'a', 'd']), ('b', ['s', 'b']), ('c', ['s', 'c'])]\n",
      "iteration 3\n",
      "q size starts 4\n",
      "q size end it 5\n",
      "- - - - \n",
      "current q has  [('d', ['s', 'a', 'b', 'd']), ('h', ['s', 'a', 'b', 'h']), ('d', ['s', 'a', 'd']), ('b', ['s', 'b']), ('c', ['s', 'c'])]\n",
      "iteration 4\n",
      "q size starts 5\n",
      "q size end it 5\n",
      "- - - - \n",
      "current q has  [('f', ['s', 'a', 'b', 'd', 'f']), ('h', ['s', 'a', 'b', 'h']), ('d', ['s', 'a', 'd']), ('b', ['s', 'b']), ('c', ['s', 'c'])]\n",
      "iteration 5\n",
      "q size starts 5\n",
      "q size end it 5\n",
      "- - - - \n",
      "current q has  [('h', ['s', 'a', 'b', 'd', 'f', 'h']), ('h', ['s', 'a', 'b', 'h']), ('d', ['s', 'a', 'd']), ('b', ['s', 'b']), ('c', ['s', 'c'])]\n",
      "iteration 6\n",
      "q size starts 5\n",
      "q size end it 5\n",
      "- - - - \n",
      "current q has  [('g', ['s', 'a', 'b', 'd', 'f', 'h', 'g']), ('h', ['s', 'a', 'b', 'h']), ('d', ['s', 'a', 'd']), ('b', ['s', 'b']), ('c', ['s', 'c'])]\n",
      "iteration 7\n",
      "q size starts 5\n",
      "q size end it 5\n",
      "- - - - \n",
      "current q has  [('e', ['s', 'a', 'b', 'd', 'f', 'h', 'g', 'e']), ('h', ['s', 'a', 'b', 'h']), ('d', ['s', 'a', 'd']), ('b', ['s', 'b']), ('c', ['s', 'c'])]\n",
      "iteration 8\n",
      "q size starts 5\n",
      "found goal\n"
     ]
    }
   ],
   "source": [
    "uninformed_search_b(g,'s','e',0)"
   ]
  },
  {
   "cell_type": "markdown",
   "metadata": {},
   "source": [
    "### Question 2.2\n",
    "\n",
    "You must get the two approaches right and run the code on different problems, you need to make sure you agree that it makes sense to print, and analyse, the *number of iterations* your algorithms take to get a solution, as well as the the size of the queue throught the different iterations---both for DFS and BFS under the two approaches that solve the loops problem."
   ]
  },
  {
   "cell_type": "markdown",
   "metadata": {},
   "source": [
    "### Question 2.3\n",
    "\n",
    "Yes it makes a lot of sense. if we want to get a true DFS and BFS implementation we want to mark nodes as visited and not explore them further. But, we may need to have access to the path found or paths explored, which in the original version, that adds the visited nodes variable, does not exist. Furthermore, if we want to visualise what the algororithms are doing we need to keep the different open paths that are being explored by the algorithm. The modified version is below"
   ]
  },
  {
   "cell_type": "code",
   "execution_count": 10,
   "metadata": {},
   "outputs": [],
   "source": [
    "def uninformed_search_c(search_graph, start, goal, option):\n",
    "    q = [(start, [start])]\n",
    "    v = []\n",
    "    # option 0: DFS\n",
    "    # option 1: BFS\n",
    "    enq = 1\n",
    "    i=0 # vamos manter um contador da iteração na qual estamos \n",
    "    while q:\n",
    "        i+=1\n",
    "        #print('current q has ', q)\n",
    "        h = q[0] #primeiro separo a q em cabeça e resto\n",
    "        r = q[1:]\n",
    "        #print('iteration', i)\n",
    "        #print('q size starts', enq)\n",
    "        if h[0] == goal: #pergunto se a cabeça é o nó objetivo\n",
    "            print('found') # se é, acabou o programa\n",
    "            break\n",
    "        else:\n",
    "            enq = enq - 1\n",
    "            v.append(h[0]) # se não é, marco o h como \"visitado\"\n",
    "            e_filter = [] # e faço a expansão do h, mas não considerando qualquer nó filho que já tenha sido visitado\n",
    "            for node in search_graph[h[0]]:\n",
    "                if node not in v:\n",
    "                    e_filter.append(node)\n",
    "                    enq += 1\n",
    "            if option == 0: # DFS\n",
    "                e = [(e_final, h[1] + [e_final]) for e_final in e_filter]\n",
    "                q =  sorted(e) + r\n",
    "                #print('q size end it', len(q))\n",
    "            else: #BFS\n",
    "                e = [(e_final, h[1] + [ex]) for e_final in e_filter]\n",
    "                q = r + sorted(e)   \n",
    "                #print('q size end it', len(q))\n",
    "        #print('- - - - ')\n"
   ]
  },
  {
   "cell_type": "code",
   "execution_count": 11,
   "metadata": {},
   "outputs": [
    {
     "name": "stdout",
     "output_type": "stream",
     "text": [
      "found\n"
     ]
    }
   ],
   "source": [
    "uninformed_search_c(g,'s','e',0)"
   ]
  },
  {
   "cell_type": "markdown",
   "metadata": {},
   "source": [
    "### Question 3.1\n",
    "\n",
    "Not a lot to say here, probably the main thing is that you need to realise that if we keep the path between two nodes a and d as a list, e.g. [a,b,c,d] you will need to write a function that outputs the edges as tuples:\n",
    "\n",
    "[(a,b), (b,c), (c,d)] which is what networkx wants to see. This is implemented below.\n",
    "\n",
    "### Question 3.2 \n",
    "\n",
    "Answer in the code below\n",
    "\n",
    "### Question 3.3\n",
    "\n",
    "No answer to give here, they need to look at the documentation, play with networkx and matplotlib. It is important to realise that using Jupyter brings some issues with matplotlib and they need to play with the magiks e.g. \n",
    "%matplotlib notebook or \n",
    "%matplotlib inline \n",
    "\n",
    "Encourage them to research what these do, and to self-teach themselves the basics of matplotlib necessary to make things with networkx work\n",
    "\n",
    "### Question 3.4 \n",
    "\n",
    "Code implemented below. I am still not painting the start node green and end node red. Will do that and update this solution but this is a minor thing really the most important thing is for them to visualise the open path the algorithm explores in every iteration "
   ]
  },
  {
   "cell_type": "code",
   "execution_count": 4,
   "metadata": {},
   "outputs": [],
   "source": [
    "# We are not publishing a solution for this question at this point, \n",
    "# but below you will find an example of what the search graph visualisations should look like"
   ]
  },
  {
   "cell_type": "code",
   "execution_count": 2,
   "metadata": {},
   "outputs": [
    {
     "ename": "NameError",
     "evalue": "name 'uninformed_search_d' is not defined",
     "output_type": "error",
     "traceback": [
      "\u001b[1;31m---------------------------------------------------------------------------\u001b[0m",
      "\u001b[1;31mNameError\u001b[0m                                 Traceback (most recent call last)",
      "\u001b[1;32m<ipython-input-2-edaefed0e272>\u001b[0m in \u001b[0;36m<module>\u001b[1;34m\u001b[0m\n\u001b[1;32m----> 1\u001b[1;33m \u001b[0muninformed_search_d\u001b[0m\u001b[1;33m(\u001b[0m\u001b[0mg\u001b[0m\u001b[1;33m,\u001b[0m \u001b[1;34m's'\u001b[0m\u001b[1;33m,\u001b[0m \u001b[1;34m'g'\u001b[0m\u001b[1;33m,\u001b[0m \u001b[1;36m1\u001b[0m\u001b[1;33m)\u001b[0m\u001b[1;33m\u001b[0m\u001b[1;33m\u001b[0m\u001b[0m\n\u001b[0m",
      "\u001b[1;31mNameError\u001b[0m: name 'uninformed_search_d' is not defined"
     ]
    }
   ],
   "source": [
    "uninformed_search_d(g, 's', 'g', 1)"
   ]
  },
  {
   "cell_type": "code",
   "execution_count": null,
   "metadata": {},
   "outputs": [],
   "source": []
  }
 ],
 "metadata": {
  "kernelspec": {
   "display_name": "Python 3",
   "language": "python",
   "name": "python3"
  },
  "language_info": {
   "codemirror_mode": {
    "name": "ipython",
    "version": 3
   },
   "file_extension": ".py",
   "mimetype": "text/x-python",
   "name": "python",
   "nbconvert_exporter": "python",
   "pygments_lexer": "ipython3",
   "version": "3.7.6"
  }
 },
 "nbformat": 4,
 "nbformat_minor": 2
}
