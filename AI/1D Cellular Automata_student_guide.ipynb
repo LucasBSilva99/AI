{
 "cells": [
  {
   "cell_type": "markdown",
   "metadata": {},
   "source": [
    "# One dimensinal CAs and Genetic Algorithms Foundation"
   ]
  },
  {
   "cell_type": "code",
   "execution_count": 1,
   "metadata": {},
   "outputs": [],
   "source": [
    "import numpy as np\n",
    "import matplotlib.pyplot as plt\n",
    "import random\n",
    "import os"
   ]
  },
  {
   "cell_type": "markdown",
   "metadata": {},
   "source": [
    "# Verificar pasta de trabalho"
   ]
  },
  {
   "cell_type": "code",
   "execution_count": null,
   "metadata": {},
   "outputs": [],
   "source": [
    "os.getcwd()"
   ]
  },
  {
   "cell_type": "markdown",
   "metadata": {},
   "source": [
    "## Terminologia usada neste notebook\n",
    "\n",
    "termo | definição\n",
    "------------ | -------------\n",
    "autómato ou célula | Qualquer uma das entidades que formam parte de uma rede dinâmica em espaço/tempo\n",
    "network | Conjunto de células (autómatos) de tamanho N\n",
    "rule | representação do dicionario que contem todas as especificaçõs dos próximos estados possíveis para uma célular dependendo da sua configuração de vizinhanza local\n",
    "rad | Número de vizinhos considerados por cada célula a cada lado \n",
    "nei | Vizinhança local de uma célula cujo tamanho e 2 * rad + 1\n",
    "res | Variável auxiliar usada para calcular o estado da network em t+1\n",
    "\n",
    "Adiciona os termos que faltam na tabela..."
   ]
  },
  {
   "cell_type": "markdown",
   "metadata": {},
   "source": [
    "## Functions to compute CA dynamics"
   ]
  },
  {
   "cell_type": "code",
   "execution_count": 2,
   "metadata": {},
   "outputs": [],
   "source": [
    "\n",
    "# this little vanilla-soft function computes the updating of a single time step.\n",
    "# step_network takes a network configuration at time t, the rule we want to use \n",
    "# as a list of integers representing cell outputs in inverse lexicographic of the \n",
    "# local neighbourhoods, the corresponding rule radius and returns a list\n",
    "# corresponding to the network configuration of the cells a t t+1\n",
    "# this code is very 'beginners' like, you can optimise it\n",
    "\n",
    "def step_network(network, rule, rad):\n",
    "    res = [] \n",
    "    for i in range(len(network)) :\n",
    "        offset_left = i - rad\n",
    "        offset_right = (i + rad)\n",
    "        sw=0\n",
    "        network_copy = network       \n",
    "        # case 1: when we have left neighbours on the right end of the network\n",
    "        if offset_left < 0 :\n",
    "            sw =1\n",
    "            network_copy = np.roll(network, offset_left*(-1))\n",
    "            nei = network_copy[0:2*rad+1] \n",
    "            lc = list(map(str,nei)) # convert neighbourhood into list of chars\n",
    "            pos = int(''.join(lc), 2) # convert list of chars into joint string and convert that string (binary) to integer (decimal)\n",
    "            res.append(rule[pos])\n",
    "        # case 2: when we have right neighbours at the left end of the network\n",
    "        if offset_right >= len(network) :\n",
    "            sw=1\n",
    "            start = ((2*rad)+1)*-1\n",
    "            mv = -1*(offset_right-i)\n",
    "            network_copy = np.roll(network, mv)\n",
    "            nei = network_copy[start:]\n",
    "            lc = list(map(str,nei))\n",
    "            pos = int(''.join(lc), 2)\n",
    "            res.append(rule[pos])\n",
    "        # case 3: when all the neighbours are in the same section of the network\n",
    "        if sw == 0:\n",
    "            nei = network_copy[i-rad:i+rad+1]\n",
    "            lc = list(map(str,nei))\n",
    "            pos = int(''.join(lc), 2)\n",
    "            res.append(rule[pos])        \n",
    "    return(res)\n",
    "\n",
    "# And this, also vanilla-soft function computes the entire dynamics of m time steps\n",
    "    \n",
    "def runCA(net, rule, rad, m):\n",
    "    i=1\n",
    "    sp = []\n",
    "    this = net\n",
    "    while i < m:\n",
    "        ts = update_network(this, rule, rad)\n",
    "        #print(ts)\n",
    "        sp.append(ts)\n",
    "        this = ts\n",
    "        i+=1\n",
    "    return(sp)       "
   ]
  },
  {
   "cell_type": "markdown",
   "metadata": {},
   "source": [
    "### Now we can run and visualise CAs"
   ]
  },
  {
   "cell_type": "code",
   "execution_count": 3,
   "metadata": {},
   "outputs": [
    {
     "data": {
      "image/png": "[encoded data removed]",
      "text/plain": [
       "<Figure size 720x720 with 1 Axes>"
      ]
     },
     "metadata": {
      "needs_background": "light"
     },
     "output_type": "display_data"
    }
   ],
   "source": [
    "# rule representation\n",
    "# convert to binary and pad left with zeroes\n",
    "# reverse so that least significant neighbourhood is first\n",
    "\n",
    "# setting the CA rule\n",
    "rule = 110 #base 10 rule representation\n",
    "r = 1 \n",
    "n = (2*r)+1\n",
    "s = 2\n",
    "rule_list =  list(map(int, list(np.binary_repr(rule,n**2))))\n",
    "rule_list.reverse() #we need to reverse it so that we can take advantage of saying that the element\n",
    "                    #in position 0 of the list corresponds to the neighbourhood of all zeros\n",
    "rule_list\n",
    "\n",
    "# Now we setting the initial configuration\n",
    "\n",
    "network_size = 151 # say you want 151 automata in your 1D CA\n",
    "network = np.random.randint(0, s, network_size) # make your automata start with random choice (1 or 0)\n",
    "\n",
    "#%%timeit n=100\n",
    "x = runCA(network, rule_list, 1, 100)\n",
    "nx = np.array(x)\n",
    "nx.astype(float)\n",
    "fig = plt.figure(figsize=(10,10))\n",
    "plt.imshow(nx, cmap='Greys');\n",
    "plt.show()"
   ]
  },
  {
   "cell_type": "markdown",
   "metadata": {},
   "source": [
    "## Support Functions for the Genetic Algorithm"
   ]
  },
  {
   "cell_type": "markdown",
   "metadata": {},
   "source": [
    "Do not try to run the code below because it is incomplete. You need to complete T1, T2, T3 and T4 indicated in the comments before you can continue to the next block. Estimated time to complete these four code completions 15-25 minutes."
   ]
  },
  {
   "cell_type": "code",
   "execution_count": null,
   "metadata": {},
   "outputs": [],
   "source": [
    "\n",
    "# Parameters\n",
    "\n",
    "population = [] # here you will add random CA rules in rad = 3 (the size of which has to be 128)\n",
    "training_set_size = 10 # this is the number of network examples I will use to compute rule fitness for majority classification\n",
    "population_size = 20 # this is the population size (P)\n",
    "elite_size = 5 # number of CA rules considered for the Elite\n",
    "\n",
    "rad = 3 # the rad is 3, we know that this is necessary for majority classification\n",
    "s=2 # each cell can have one of two states\n",
    "n = (2*rad)+1 # the size of the neighbourhood of a cell\n",
    "network_size = 91 # say you want 91 cells in your 1D CA\n",
    "ca_steps = 182 # the number of time steps to run CAs for when we are computing fitness\n",
    "\n",
    "mutation_rate = 0.02 # you can vary this\n",
    "cross_over_points = 1 # you can vary this\n",
    "\n",
    "# this code allows you to produce a random rule given number of states and size of local neigbourhood\n",
    "def random_rule(s,n):\n",
    "    rule_size = s**n\n",
    "    rule_space = s**rule_size\n",
    "    random_rule = random.getrandbits(rule_size)\n",
    "    rule_list =  list(map(int, list(np.binary_repr(random_rule,rule_size))))\n",
    "    return rule_list\n",
    "\n",
    "# this code allows you to create a set of network examples to test the fitness of CA rules in your populations\n",
    "training_set = []\n",
    "for i in range(training_set_size):\n",
    "    t = np.random.randint(0, s, network_size) # make your automata start with random choice (1 or 0)\n",
    "    training_set.append(list(t))\n",
    "\n",
    "# this code allows you to create a set of CA rules to form your populations\n",
    "population = []\n",
    "for i in range(population_size):\n",
    "    r = random_rule(2,7)\n",
    "    population.append([r, 0])\n",
    "\n",
    "def compute_fitness(individual, training_set, r, steps):\n",
    "    performance_list =[]\n",
    "    for example in training_set:\n",
    "            count_zeroes = # T1. add code to count zeros in numpy array\n",
    "            count_ones = # T2. add code to count ones in numpy array\n",
    "            if count_zeroes > count_ones:\n",
    "                majority = 0\n",
    "            else:\n",
    "                majority = 1\n",
    "            ca_dynamics = # T3. produce the space-time dynamics \n",
    "            performance = # T4. extract last network configuration (last time step), count how many cells are in majority state and divide by network size\n",
    "            performance_list.append(performance)\n",
    "    return sum(performance_list)/len(performance_list) # remember that fitness is the average performance over the examples\n",
    "        \n",
    "        \n",
    "    "
   ]
  },
  {
   "cell_type": "markdown",
   "metadata": {},
   "source": [
    "### Test generation of single random CA rule and computation of majority classification fitness"
   ]
  },
  {
   "cell_type": "code",
   "execution_count": null,
   "metadata": {},
   "outputs": [],
   "source": [
    "my_rule = random_rule(2,7)\n",
    "compute_fitness(my_rule, training_set, rad, ca_steps)"
   ]
  },
  {
   "cell_type": "markdown",
   "metadata": {},
   "source": [
    "## Complete the rest of the functions for the Genetic Algorithm\n",
    "Now work on the remaining GA functions. Estimated time to completion 2-4 hours"
   ]
  },
  {
   "cell_type": "code",
   "execution_count": null,
   "metadata": {},
   "outputs": [],
   "source": [
    "def cross_over(parent_1, parent_2, points):\n",
    "    # you need to implement this\n",
    "    print('to be implemented')\n",
    "    \n",
    "    \n",
    "def mutation(child, mut_rate):\n",
    "    # you need to implement this\n",
    "    print('to be implemented')    \n",
    "    \n",
    "def do_generation(population, training_set, rad, ca_steps):\n",
    "    # you need to implement this\n",
    "    # this function computes fitness of all individuals in population\n",
    "    # returns list of individuals and fitness ordered by fitness\n",
    "    print('to be implemented')     \n",
    "    \n",
    "def next_generation(population, training_set, rad, ca_steps):\n",
    "    # you need to implement this\n",
    "    # this function selects elite and clones to next generation\n",
    "    # it replaces the P - E individuals with offprings\n",
    "    # produced by doing cross over and mutation from elite members\n",
    "    print('to be implemented')    \n",
    "    \n",
    "def run_genetic_algorithm(#define parameters)\n",
    "    # define suitable code\n",
    "    # define suitable termination condition, for example finish after X generations"
   ]
  }
 ],
 "metadata": {
  "kernelspec": {
   "display_name": "Python 3",
   "language": "python",
   "name": "python3"
  },
  "language_info": {
   "codemirror_mode": {
    "name": "ipython",
    "version": 3
   },
   "file_extension": ".py",
   "mimetype": "text/x-python",
   "name": "python",
   "nbconvert_exporter": "python",
   "pygments_lexer": "ipython3",
   "version": "3.7.6"
  }
 },
 "nbformat": 4,
 "nbformat_minor": 4
}
