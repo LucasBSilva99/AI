{
 "cells": [
  {
   "cell_type": "code",
   "execution_count": 8,
   "metadata": {},
   "outputs": [],
   "source": [
    "import os\n",
    "import csv\n"
   ]
  },
  {
   "cell_type": "code",
   "execution_count": 9,
   "metadata": {},
   "outputs": [
    {
     "data": {
      "text/plain": [
       "'/Users/manuel/Dropbox/Teaching/AI-2020/Practical_1/Solutions'"
      ]
     },
     "execution_count": 9,
     "metadata": {},
     "output_type": "execute_result"
    }
   ],
   "source": [
    "# here i am making sure I am pointing to the directory where\n",
    "# i have the data and stuff I will use in this code.\n",
    "# for this Turing machine I am storing the 'program' as a CSV\n",
    "os.chdir('/Users/manuel/Dropbox/Teaching/AI-2020/Practical_1/Solutions/')\n",
    "os.getcwd()"
   ]
  },
  {
   "cell_type": "code",
   "execution_count": null,
   "metadata": {},
   "outputs": [],
   "source": []
  },
  {
   "cell_type": "markdown",
   "metadata": {},
   "source": [
    "Definições:\n",
    "\n",
    "maquina é uma lista com dois elementos, a posição onde esta na fita, e o seu estado interno\n",
    "a tape e uma lista\n",
    "\n",
    "o programa exemplo:\n",
    "\n",
    "[['0', ' ', ' ', 'L', '5'],\n",
    " ['0', 'x', ' ', 'L', '1'],\n",
    " ['0', 'y', ' ', 'L', '2'],\n",
    " ['0', 'z', ' ', 'L', '3'],\n",
    " ['1', ' ', 'x', 'R', '4'],\n",
    " ['2', ' ', 'y', 'R', '4'],\n",
    " ['3', ' ', 'z', 'R', '4'],\n",
    " ['4', ' ', ' ', 'R', '0'],\n",
    " ['5', ' ', ' ', 'L', '6'],\n",
    " ['6', ' ', ' ', 'R', 'HALT'],\n",
    " ['6', 'x', 'x', 'L', '6'],\n",
    " ['6', 'y', 'y', 'L', '6'],\n",
    " ['6', 'z', 'z', 'L', '6']]\n"
   ]
  },
  {
   "cell_type": "code",
   "execution_count": 10,
   "metadata": {},
   "outputs": [],
   "source": [
    "\n",
    "# the machine has two parts, position and current state\n",
    "# condition has reading on tape, and in state\n",
    "\n",
    "# given a condition pair (in-state, reading) return the right\n",
    "# three part action component from the 'program'\n",
    "def getAction(condition, program) :\n",
    "    res= -1\n",
    "    for i in range(0,len(program)):\n",
    "        if program[i][0] == condition[0] and program[i][1] == condition[1] :\n",
    "            res = [program[i][2],program[i][3],program[i][4]]\n",
    "            print('matched action is ', res)\n",
    "    return res        \n",
    "    \n",
    "# Simply pass the tape, position, and new symbol to update tape\n",
    "# this could be done directly inside the execute step def\n",
    "# it was done here for conceptual clarity\n",
    "def updateTape(tape, pos, wrt) :\n",
    "    tape[pos] = wrt\n",
    "    return tape\n",
    "\n",
    "# here we update where the machine is, and its new state\n",
    "def updateMachine(machine, tape, mv, newstate) :\n",
    "    if mv == 'L' :\n",
    "        machine[0] = machine[0] -1\n",
    "    elif mv == 'R' :\n",
    "        machine[0] = machine[0] +1\n",
    "        \n",
    "    machine[1] = newstate\n",
    "    if machine[0] >= 0 and machine[0] <= len(tape) :\n",
    "        return machine\n",
    "    else :\n",
    "        return -1\n",
    "    \n",
    "# this is the main function that executes a single step\n",
    "# of the turing machine\n",
    "def executeStep(machine,tape,program) :\n",
    "    #print('current machine is ', machine)\n",
    "    condition = [machine[1],tape[machine[0]]]\n",
    "    print('matched condition ', condition)\n",
    "    #print('condition is ', condition)\n",
    "    action = getAction(condition,program)\n",
    "    #print('action is ', action)\n",
    "    tape = updateTape(tape, machine[0], action[0])\n",
    "    machine = updateMachine(machine, tape, action[1], action[2])\n",
    "    #print('new machine is ', machine)\n",
    "    #print(tape)\n",
    "    return [machine, tape]\n",
    "\n",
    "\n",
    "# this is the main function that orchestrates everything\n",
    "def runMachine(machine,tape,program) :\n",
    "    ltape =tape\n",
    "    lm= machine\n",
    "    i=1\n",
    "    while lm[1] != 'HALT':\n",
    "        print('step ',i,': ', ltape, 'machine is in pos', machine[0])\n",
    "        #print('entered')\n",
    "        um = executeStep(lm,ltape,program)\n",
    "        #print('got um')\n",
    "        lm = um[0]\n",
    "        ltape = um[1]\n",
    "        i=i+1"
   ]
  },
  {
   "cell_type": "code",
   "execution_count": 11,
   "metadata": {},
   "outputs": [],
   "source": [
    "# open the 'program' stored as a CSV file\n",
    "# keep in mind you need to be pointing to the right directory\n",
    "with open('exampleTuring.csv') as csvfile:\n",
    "    stt = csv.reader(csvfile, delimiter=',')\n",
    "    stt = list(stt)"
   ]
  },
  {
   "cell_type": "code",
   "execution_count": 17,
   "metadata": {},
   "outputs": [
    {
     "data": {
      "text/plain": [
       "[['0', ' ', ' ', 'L', '5'],\n",
       " ['0', 'x', ' ', 'L', '1'],\n",
       " ['0', 'y', ' ', 'L', '2'],\n",
       " ['0', 'z', ' ', 'L', '3'],\n",
       " ['1', ' ', 'x', 'R', '4'],\n",
       " ['2', ' ', 'y', 'R', '4'],\n",
       " ['3', ' ', 'z', 'R', '4'],\n",
       " ['4', ' ', ' ', 'R', '0'],\n",
       " ['5', ' ', ' ', 'L', '6'],\n",
       " ['6', ' ', ' ', 'R', 'HALT'],\n",
       " ['6', 'x', 'x', 'L', '6'],\n",
       " ['6', 'y', 'y', 'L', '6'],\n",
       " ['6', 'z', 'z', 'L', '6']]"
      ]
     },
     "execution_count": 17,
     "metadata": {},
     "output_type": "execute_result"
    }
   ],
   "source": [
    "stt"
   ]
  },
  {
   "cell_type": "code",
   "execution_count": 8,
   "metadata": {},
   "outputs": [
    {
     "data": {
      "text/plain": [
       "'L'"
      ]
     },
     "execution_count": 8,
     "metadata": {},
     "output_type": "execute_result"
    }
   ],
   "source": [
    "stt[1][3]"
   ]
  },
  {
   "cell_type": "code",
   "execution_count": 12,
   "metadata": {},
   "outputs": [
    {
     "name": "stdout",
     "output_type": "stream",
     "text": [
      "step  1 :  [' ', ' ', ' ', 'x', 'x', 'y', 'z', 'z', ' ', ' ', ' ', ' '] machine is in pos 3\n",
      "matched condition  ['0', 'x']\n",
      "matched action is  [' ', 'L', '1']\n",
      "step  2 :  [' ', ' ', ' ', ' ', 'x', 'y', 'z', 'z', ' ', ' ', ' ', ' '] machine is in pos 2\n",
      "matched condition  ['1', ' ']\n",
      "matched action is  ['x', 'R', '4']\n",
      "step  3 :  [' ', ' ', 'x', ' ', 'x', 'y', 'z', 'z', ' ', ' ', ' ', ' '] machine is in pos 3\n",
      "matched condition  ['4', ' ']\n",
      "matched action is  [' ', 'R', '0']\n",
      "step  4 :  [' ', ' ', 'x', ' ', 'x', 'y', 'z', 'z', ' ', ' ', ' ', ' '] machine is in pos 4\n",
      "matched condition  ['0', 'x']\n",
      "matched action is  [' ', 'L', '1']\n",
      "step  5 :  [' ', ' ', 'x', ' ', ' ', 'y', 'z', 'z', ' ', ' ', ' ', ' '] machine is in pos 3\n",
      "matched condition  ['1', ' ']\n",
      "matched action is  ['x', 'R', '4']\n",
      "step  6 :  [' ', ' ', 'x', 'x', ' ', 'y', 'z', 'z', ' ', ' ', ' ', ' '] machine is in pos 4\n",
      "matched condition  ['4', ' ']\n",
      "matched action is  [' ', 'R', '0']\n",
      "step  7 :  [' ', ' ', 'x', 'x', ' ', 'y', 'z', 'z', ' ', ' ', ' ', ' '] machine is in pos 5\n",
      "matched condition  ['0', 'y']\n",
      "matched action is  [' ', 'L', '2']\n",
      "step  8 :  [' ', ' ', 'x', 'x', ' ', ' ', 'z', 'z', ' ', ' ', ' ', ' '] machine is in pos 4\n",
      "matched condition  ['2', ' ']\n",
      "matched action is  ['y', 'R', '4']\n",
      "step  9 :  [' ', ' ', 'x', 'x', 'y', ' ', 'z', 'z', ' ', ' ', ' ', ' '] machine is in pos 5\n",
      "matched condition  ['4', ' ']\n",
      "matched action is  [' ', 'R', '0']\n",
      "step  10 :  [' ', ' ', 'x', 'x', 'y', ' ', 'z', 'z', ' ', ' ', ' ', ' '] machine is in pos 6\n",
      "matched condition  ['0', 'z']\n",
      "matched action is  [' ', 'L', '3']\n",
      "step  11 :  [' ', ' ', 'x', 'x', 'y', ' ', ' ', 'z', ' ', ' ', ' ', ' '] machine is in pos 5\n",
      "matched condition  ['3', ' ']\n",
      "matched action is  ['z', 'R', '4']\n",
      "step  12 :  [' ', ' ', 'x', 'x', 'y', 'z', ' ', 'z', ' ', ' ', ' ', ' '] machine is in pos 6\n",
      "matched condition  ['4', ' ']\n",
      "matched action is  [' ', 'R', '0']\n",
      "step  13 :  [' ', ' ', 'x', 'x', 'y', 'z', ' ', 'z', ' ', ' ', ' ', ' '] machine is in pos 7\n",
      "matched condition  ['0', 'z']\n",
      "matched action is  [' ', 'L', '3']\n",
      "step  14 :  [' ', ' ', 'x', 'x', 'y', 'z', ' ', ' ', ' ', ' ', ' ', ' '] machine is in pos 6\n",
      "matched condition  ['3', ' ']\n",
      "matched action is  ['z', 'R', '4']\n",
      "step  15 :  [' ', ' ', 'x', 'x', 'y', 'z', 'z', ' ', ' ', ' ', ' ', ' '] machine is in pos 7\n",
      "matched condition  ['4', ' ']\n",
      "matched action is  [' ', 'R', '0']\n",
      "step  16 :  [' ', ' ', 'x', 'x', 'y', 'z', 'z', ' ', ' ', ' ', ' ', ' '] machine is in pos 8\n",
      "matched condition  ['0', ' ']\n",
      "matched action is  [' ', 'L', '5']\n",
      "step  17 :  [' ', ' ', 'x', 'x', 'y', 'z', 'z', ' ', ' ', ' ', ' ', ' '] machine is in pos 7\n",
      "matched condition  ['5', ' ']\n",
      "matched action is  [' ', 'L', '6']\n",
      "step  18 :  [' ', ' ', 'x', 'x', 'y', 'z', 'z', ' ', ' ', ' ', ' ', ' '] machine is in pos 6\n",
      "matched condition  ['6', 'z']\n",
      "matched action is  ['z', 'L', '6']\n",
      "step  19 :  [' ', ' ', 'x', 'x', 'y', 'z', 'z', ' ', ' ', ' ', ' ', ' '] machine is in pos 5\n",
      "matched condition  ['6', 'z']\n",
      "matched action is  ['z', 'L', '6']\n",
      "step  20 :  [' ', ' ', 'x', 'x', 'y', 'z', 'z', ' ', ' ', ' ', ' ', ' '] machine is in pos 4\n",
      "matched condition  ['6', 'y']\n",
      "matched action is  ['y', 'L', '6']\n",
      "step  21 :  [' ', ' ', 'x', 'x', 'y', 'z', 'z', ' ', ' ', ' ', ' ', ' '] machine is in pos 3\n",
      "matched condition  ['6', 'x']\n",
      "matched action is  ['x', 'L', '6']\n",
      "step  22 :  [' ', ' ', 'x', 'x', 'y', 'z', 'z', ' ', ' ', ' ', ' ', ' '] machine is in pos 2\n",
      "matched condition  ['6', 'x']\n",
      "matched action is  ['x', 'L', '6']\n",
      "step  23 :  [' ', ' ', 'x', 'x', 'y', 'z', 'z', ' ', ' ', ' ', ' ', ' '] machine is in pos 1\n",
      "matched condition  ['6', ' ']\n",
      "matched action is  [' ', 'R', 'HALT']\n"
     ]
    }
   ],
   "source": [
    "testTape = [' ',' ',' ','x','x','y','z','z',' ',' ',' ',' ']\n",
    "runMachine([3,'0'], testTape, stt)"
   ]
  }
 ],
 "metadata": {
  "kernelspec": {
   "display_name": "Python 3",
   "language": "python",
   "name": "python3"
  },
  "language_info": {
   "codemirror_mode": {
    "name": "ipython",
    "version": 3
   },
   "file_extension": ".py",
   "mimetype": "text/x-python",
   "name": "python",
   "nbconvert_exporter": "python",
   "pygments_lexer": "ipython3",
   "version": "3.7.6"
  }
 },
 "nbformat": 4,
 "nbformat_minor": 2
}
